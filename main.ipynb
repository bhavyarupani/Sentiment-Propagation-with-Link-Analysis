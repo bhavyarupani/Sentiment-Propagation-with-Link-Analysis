{
 "cells": [
  {
   "cell_type": "code",
   "execution_count": null,
   "metadata": {},
   "outputs": [],
   "source": [
    "import urllib.request\n",
    "from sklearn.feature_extraction.text import TfidfVectorizer\n",
    "from sklearn.metrics.pairwise import cosine_similarity\n",
    "import json\n",
    "import gzip\n",
    "import nltk\n",
    "from nltk.corpus import stopwords\n",
    "from nltk.stem import PorterStemmer\n",
    "from sklearn.feature_extraction.text import TfidfVectorizer\n",
    "\n",
    "# Download necessary resources for preprocessing and sentiment analysis\n",
    "nltk.download('punkt')\n",
    "nltk.download('stopwords')\n",
    "nltk.download('averaged_perceptron_tagger')\n",
    "nltk.download('vader_lexicon')"
   ]
  },
  {
   "cell_type": "code",
   "execution_count": 1,
   "metadata": {},
   "outputs": [],
   "source": [
    "dataset_url = \"http://snap.stanford.edu/data/amazon/productGraph/kcore_5.json.gz\"\n",
    "save_path = \"kcore_5.json.gz\"\n",
    "\n",
    "# Download the 5-core dataset\n",
    "urllib.request.urlretrieve(dataset_url, save_path)\n",
    "\n",
    "print(\"Dataset downloaded successfully.\")"
   ]
  },
  {
   "cell_type": "code",
   "execution_count": null,
   "metadata": {},
   "outputs": [],
   "source": [
    "data_file = \"reviews_Books_5.json.gz\"\n",
    "\n",
    "# Load the dataset from the JSON file\n",
    "data = []\n",
    "with gzip.open(data_file, \"rt\") as f:\n",
    "    for line in f:\n",
    "        entry = json.loads(line)\n",
    "        data.append(entry)"
   ]
  },
  {
   "cell_type": "code",
   "execution_count": null,
   "metadata": {},
   "outputs": [],
   "source": [
    "# Preprocessing steps\n",
    "def preprocess_text(text):\n",
    "    # Convert text to lowercase\n",
    "    text = text.lower()\n",
    "    \n",
    "    # Tokenize the text into individual words\n",
    "    words = nltk.word_tokenize(text)\n",
    "    \n",
    "    # Remove stopwords\n",
    "    stop_words = set(stopwords.words('english'))\n",
    "    words = [word for word in words if word not in stop_words]\n",
    "    \n",
    "    # Perform stemming\n",
    "    stemmer = PorterStemmer()\n",
    "    words = [stemmer.stem(word) for word in words]\n",
    "    \n",
    "    # Join the words back into a preprocessed text\n",
    "    preprocessed_text = ' '.join(words)\n",
    "    \n",
    "    return preprocessed_text"
   ]
  },
  {
   "cell_type": "code",
   "execution_count": null,
   "metadata": {},
   "outputs": [],
   "source": [
    "# Preprocess the review texts\n",
    "preprocessed_review1 = preprocess_text(review1)\n",
    "preprocessed_review2 = preprocess_text(review2)\n",
    "\n",
    "# Create a TF-IDF vectorizer object\n",
    "vectorizer = TfidfVectorizer()\n",
    "\n",
    "# Fit the vectorizer on the preprocessed review texts\n",
    "tfidf_matrix = vectorizer.fit_transform([preprocessed_review1, preprocessed_review2])\n",
    "\n",
    "# Sentiment analysis using VADER SentimentIntensityAnalyzer\n",
    "from nltk.sentiment import SentimentIntensityAnalyzer\n",
    "\n",
    "analyzer = SentimentIntensityAnalyzer()\n",
    "\n",
    "# Calculate sentiment scores for the original review texts\n",
    "sentiment_scores1 = analyzer.polarity_scores(review1)\n",
    "sentiment_scores2 = analyzer.polarity_scores(review2)\n",
    "\n",
    "# Accessing the compound sentiment scores\n",
    "sentiment_score1 = sentiment_scores1['compound']\n",
    "sentiment_score2 = sentiment_scores2['compound']\n",
    "\n",
    "print(\"Sentiment score for review 1:\", sentiment_score1)\n",
    "print(\"Sentiment score for review 2:\", sentiment_score2)"
   ]
  }
 ],
 "metadata": {
  "kernelspec": {
   "display_name": "Python 3",
   "language": "python",
   "name": "python3"
  },
  "language_info": {
   "codemirror_mode": {
    "name": "ipython",
    "version": 3
   },
   "file_extension": ".py",
   "mimetype": "text/x-python",
   "name": "python",
   "nbconvert_exporter": "python",
   "pygments_lexer": "ipython3",
   "version": "3.11.3"
  },
  "orig_nbformat": 4
 },
 "nbformat": 4,
 "nbformat_minor": 2
}
